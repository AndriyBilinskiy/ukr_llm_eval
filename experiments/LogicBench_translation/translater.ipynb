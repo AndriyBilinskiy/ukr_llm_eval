{
 "cells": [
  {
   "cell_type": "code",
   "execution_count": null,
   "id": "initial_id",
   "metadata": {
    "collapsed": true
   },
   "outputs": [],
   "source": [
    ""
   ]
  },
  {
   "metadata": {
    "ExecuteTime": {
     "end_time": "2024-11-28T15:24:59.317988Z",
     "start_time": "2024-11-28T15:24:59.186846Z"
    }
   },
   "cell_type": "code",
   "source": "!ls",
   "id": "df43b9177031c8e8",
   "outputs": [
    {
     "name": "stdout",
     "output_type": "stream",
     "text": [
      "data_instances.json translater.ipynb\r\n"
     ]
    }
   ],
   "execution_count": 1
  },
  {
   "metadata": {
    "ExecuteTime": {
     "end_time": "2024-11-29T11:57:17.675777Z",
     "start_time": "2024-11-29T11:57:17.668842Z"
    }
   },
   "cell_type": "code",
   "source": [
    "import json\n",
    "from googletrans import Translator\n",
    "def translate_file(src, dst):\n",
    "    data =  json.load(open(src, 'r'))\n",
    "    qestions = data['data_samples']\n",
    "    translator = Translator()\n",
    "    ukr_qestions = []\n",
    "    for question in qestions[:20]:\n",
    "        ukr_qestion = question\n",
    "        ukr_qestion['context'] = translator.translate(question['context'], src='en', dest='uk').text\n",
    "        for i in range(len(question['qa_pairs'])):\n",
    "            ukr_qestion['qa_pairs'][i]['question'] = translator.translate(question['qa_pairs'][i]['question'], src='en', dest='uk').text\n",
    "            ukr_qestion['qa_pairs'][i]['answer'] = translator.translate(question['qa_pairs'][i]['answer'], src='en', dest='uk').text\n",
    "        ukr_qestions.append(ukr_qestion)\n",
    "    formateted_qestions = []\n",
    "    for question_set in ukr_qestions[1:]:\n",
    "        for question in question_set['qa_pairs']:\n",
    "            formateted_qestions.append({\n",
    "                'context': question_set['context'],\n",
    "                'question': question['question'],\n",
    "                'answer': question['answer'],\n",
    "            })\n",
    "    with open(dst, 'w', encoding='utf-8') as file:\n",
    "        json.dump(formateted_qestions, file, ensure_ascii=False, indent=4)\n"
   ],
   "id": "7d241535c0df6875",
   "outputs": [],
   "execution_count": 27
  },
  {
   "metadata": {
    "ExecuteTime": {
     "end_time": "2024-11-29T11:59:06.950145Z",
     "start_time": "2024-11-29T11:57:21.129201Z"
    }
   },
   "cell_type": "code",
   "source": "translate_file('disjunctive_syllogism.json', 'ukr_questions_disjunctive_syllogism.json')",
   "id": "5517000943c68237",
   "outputs": [],
   "execution_count": 28
  },
  {
   "metadata": {
    "ExecuteTime": {
     "end_time": "2024-11-28T15:28:00.740867Z",
     "start_time": "2024-11-28T15:27:58.870234Z"
    }
   },
   "cell_type": "code",
   "source": "# !pip install googletrans==4.0.0-rc1",
   "id": "1c9eefbe1c8cf8e2",
   "outputs": [
    {
     "name": "stdout",
     "output_type": "stream",
     "text": [
      "Collecting googletrans==4.0.0-rc1\r\n",
      "  Using cached googletrans-4.0.0rc1-py3-none-any.whl\r\n",
      "Collecting httpx==0.13.3 (from googletrans==4.0.0-rc1)\r\n",
      "  Using cached httpx-0.13.3-py3-none-any.whl.metadata (25 kB)\r\n",
      "Requirement already satisfied: certifi in /opt/anaconda3/envs/ukr_llm_eval/lib/python3.11/site-packages (from httpx==0.13.3->googletrans==4.0.0-rc1) (2024.8.30)\r\n",
      "Collecting hstspreload (from httpx==0.13.3->googletrans==4.0.0-rc1)\r\n",
      "  Using cached hstspreload-2024.11.1-py3-none-any.whl.metadata (2.1 kB)\r\n",
      "Requirement already satisfied: sniffio in /opt/anaconda3/envs/ukr_llm_eval/lib/python3.11/site-packages (from httpx==0.13.3->googletrans==4.0.0-rc1) (1.3.1)\r\n",
      "Collecting chardet==3.* (from httpx==0.13.3->googletrans==4.0.0-rc1)\r\n",
      "  Using cached chardet-3.0.4-py2.py3-none-any.whl.metadata (3.2 kB)\r\n",
      "Collecting idna==2.* (from httpx==0.13.3->googletrans==4.0.0-rc1)\r\n",
      "  Using cached idna-2.10-py2.py3-none-any.whl.metadata (9.1 kB)\r\n",
      "Collecting rfc3986<2,>=1.3 (from httpx==0.13.3->googletrans==4.0.0-rc1)\r\n",
      "  Using cached rfc3986-1.5.0-py2.py3-none-any.whl.metadata (6.5 kB)\r\n",
      "Collecting httpcore==0.9.* (from httpx==0.13.3->googletrans==4.0.0-rc1)\r\n",
      "  Using cached httpcore-0.9.1-py3-none-any.whl.metadata (4.6 kB)\r\n",
      "Collecting h11<0.10,>=0.8 (from httpcore==0.9.*->httpx==0.13.3->googletrans==4.0.0-rc1)\r\n",
      "  Using cached h11-0.9.0-py2.py3-none-any.whl.metadata (8.1 kB)\r\n",
      "Collecting h2==3.* (from httpcore==0.9.*->httpx==0.13.3->googletrans==4.0.0-rc1)\r\n",
      "  Using cached h2-3.2.0-py2.py3-none-any.whl.metadata (32 kB)\r\n",
      "Collecting hyperframe<6,>=5.2.0 (from h2==3.*->httpcore==0.9.*->httpx==0.13.3->googletrans==4.0.0-rc1)\r\n",
      "  Using cached hyperframe-5.2.0-py2.py3-none-any.whl.metadata (7.2 kB)\r\n",
      "Collecting hpack<4,>=3.0 (from h2==3.*->httpcore==0.9.*->httpx==0.13.3->googletrans==4.0.0-rc1)\r\n",
      "  Using cached hpack-3.0.0-py2.py3-none-any.whl.metadata (7.0 kB)\r\n",
      "Using cached httpx-0.13.3-py3-none-any.whl (55 kB)\r\n",
      "Using cached chardet-3.0.4-py2.py3-none-any.whl (133 kB)\r\n",
      "Using cached httpcore-0.9.1-py3-none-any.whl (42 kB)\r\n",
      "Using cached idna-2.10-py2.py3-none-any.whl (58 kB)\r\n",
      "Using cached h2-3.2.0-py2.py3-none-any.whl (65 kB)\r\n",
      "Using cached rfc3986-1.5.0-py2.py3-none-any.whl (31 kB)\r\n",
      "Using cached hstspreload-2024.11.1-py3-none-any.whl (1.2 MB)\r\n",
      "Using cached h11-0.9.0-py2.py3-none-any.whl (53 kB)\r\n",
      "Using cached hpack-3.0.0-py2.py3-none-any.whl (38 kB)\r\n",
      "Using cached hyperframe-5.2.0-py2.py3-none-any.whl (12 kB)\r\n",
      "Installing collected packages: rfc3986, hyperframe, hpack, h11, chardet, idna, hstspreload, h2, httpcore, httpx, googletrans\r\n",
      "  Attempting uninstall: h11\r\n",
      "    Found existing installation: h11 0.14.0\r\n",
      "    Uninstalling h11-0.14.0:\r\n",
      "      Successfully uninstalled h11-0.14.0\r\n",
      "  Attempting uninstall: idna\r\n",
      "    Found existing installation: idna 3.10\r\n",
      "    Uninstalling idna-3.10:\r\n",
      "      Successfully uninstalled idna-3.10\r\n",
      "  Attempting uninstall: httpcore\r\n",
      "    Found existing installation: httpcore 1.0.7\r\n",
      "    Uninstalling httpcore-1.0.7:\r\n",
      "      Successfully uninstalled httpcore-1.0.7\r\n",
      "  Attempting uninstall: httpx\r\n",
      "    Found existing installation: httpx 0.27.2\r\n",
      "    Uninstalling httpx-0.27.2:\r\n",
      "      Successfully uninstalled httpx-0.27.2\r\n",
      "\u001B[31mERROR: pip's dependency resolver does not currently take into account all the packages that are installed. This behaviour is the source of the following dependency conflicts.\r\n",
      "jupyterlab 4.2.6 requires httpx>=0.25.0, but you have httpx 0.13.3 which is incompatible.\u001B[0m\u001B[31m\r\n",
      "\u001B[0mSuccessfully installed chardet-3.0.4 googletrans-4.0.0rc1 h11-0.9.0 h2-3.2.0 hpack-3.0.0 hstspreload-2024.11.1 httpcore-0.9.1 httpx-0.13.3 hyperframe-5.2.0 idna-2.10 rfc3986-1.5.0\r\n"
     ]
    }
   ],
   "execution_count": 10
  },
  {
   "metadata": {
    "ExecuteTime": {
     "end_time": "2024-11-29T08:48:52.819588Z",
     "start_time": "2024-11-29T08:48:52.812810Z"
    }
   },
   "cell_type": "code",
   "source": "",
   "id": "f0547f55bc00edd1",
   "outputs": [],
   "execution_count": 20
  },
  {
   "metadata": {},
   "cell_type": "code",
   "outputs": [],
   "execution_count": 8,
   "source": [
    "with open('ukr_questions.json', 'r', encoding='utf-8') as file:\n",
    "    ukr_qestions = json.loads(file.read())\n"
   ],
   "id": "7ef75e4d4c267865"
  }
 ],
 "metadata": {
  "kernelspec": {
   "display_name": "Python 3",
   "language": "python",
   "name": "python3"
  },
  "language_info": {
   "codemirror_mode": {
    "name": "ipython",
    "version": 2
   },
   "file_extension": ".py",
   "mimetype": "text/x-python",
   "name": "python",
   "nbconvert_exporter": "python",
   "pygments_lexer": "ipython2",
   "version": "2.7.6"
  }
 },
 "nbformat": 4,
 "nbformat_minor": 5
}
