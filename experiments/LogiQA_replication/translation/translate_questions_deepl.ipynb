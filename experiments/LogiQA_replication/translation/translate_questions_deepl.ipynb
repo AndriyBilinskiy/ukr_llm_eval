{
 "cells": [
  {
   "cell_type": "code",
   "id": "initial_id",
   "metadata": {
    "collapsed": true,
    "ExecuteTime": {
     "end_time": "2024-11-25T08:44:37.778918Z",
     "start_time": "2024-11-25T08:44:36.665631Z"
    }
   },
   "source": [
    "import deepl\n",
    "import os\n",
    "from dotenv import load_dotenv\n",
    "\n",
    "# Load .env file\n",
    "load_dotenv()\n",
    "# Create a Translator object providing your DeepL API authentication key.\n",
    "# To avoid writing your key in source code, you can set it in an environment\n",
    "# variable DEEPL_AUTH_KEY, then read the variable in your Python code:\n",
    "translator = deepl.Translator(os.getenv(\"DEEPL_AUTH_KEY\"))\n",
    "\n",
    "# Translate text into a target language, in this case, French\n",
    "result = translator.translate_text(\"Hello, world!\", target_lang=\"FR\")\n",
    "print(result)  # \"Bonjour, le monde !\"\n",
    "# Note: printing or converting the result to a string uses the output text\n",
    "\n",
    "# Translate multiple texts into British English\n",
    "result = translator.translate_text([\"お元気ですか？\", \"¿Cómo estás?\"], target_lang=\"EN-GB\")\n",
    "print(result[0].text)  # \"How are you?\"\n",
    "print(result[0].detected_source_lang)  # \"JA\"\n",
    "print(result[1].text)  # \"How are you?\"\n",
    "print(result[1].detected_source_lang)  # \"ES\"\n",
    "\n",
    "\n",
    "# Check account usage\n",
    "usage = translator.get_usage()\n",
    "if usage.character.limit_exceeded:\n",
    "    print(\"Character limit exceeded.\")\n",
    "else:\n",
    "    print(f\"Character usage: {usage.character}\")"
   ],
   "outputs": [
    {
     "name": "stdout",
     "output_type": "stream",
     "text": [
      "Bonjour à tous !\n",
      "How are you?\n",
      "JA\n",
      "How are you?\n",
      "ES\n",
      "Der Maler wurde mit einem Gewinn ausgezeichnet.\n",
      "Der Künstler wurde mit einem Preis ausgezeichnet.\n",
      "Character usage: 95 of 500000\n",
      "Source languages:\n",
      "BG (Bulgarian)\n",
      "CS (Czech)\n",
      "DA (Danish)\n",
      "DE (German)\n",
      "EL (Greek)\n",
      "EN (English)\n",
      "ES (Spanish)\n",
      "ET (Estonian)\n",
      "FI (Finnish)\n",
      "FR (French)\n",
      "HU (Hungarian)\n",
      "ID (Indonesian)\n",
      "IT (Italian)\n",
      "JA (Japanese)\n",
      "KO (Korean)\n",
      "LT (Lithuanian)\n",
      "LV (Latvian)\n",
      "NB (Norwegian)\n",
      "NL (Dutch)\n",
      "PL (Polish)\n",
      "PT (Portuguese)\n",
      "RO (Romanian)\n",
      "RU (Russian)\n",
      "SK (Slovak)\n",
      "SL (Slovenian)\n",
      "SV (Swedish)\n",
      "TR (Turkish)\n",
      "UK (Ukrainian)\n",
      "ZH (Chinese)\n",
      "Target languages:\n",
      "BG (Bulgarian)\n",
      "CS (Czech)\n",
      "DA (Danish)\n",
      "DE (German) supports formality\n",
      "EL (Greek)\n",
      "EN-GB (English (British))\n",
      "EN-US (English (American))\n",
      "ES (Spanish) supports formality\n",
      "ET (Estonian)\n",
      "FI (Finnish)\n",
      "FR (French) supports formality\n",
      "HU (Hungarian)\n",
      "ID (Indonesian)\n",
      "IT (Italian) supports formality\n",
      "JA (Japanese) supports formality\n",
      "KO (Korean)\n",
      "LT (Lithuanian)\n",
      "LV (Latvian)\n",
      "NB (Norwegian)\n",
      "NL (Dutch) supports formality\n",
      "PL (Polish) supports formality\n",
      "PT-BR (Portuguese (Brazilian)) supports formality\n",
      "PT-PT (Portuguese (European)) supports formality\n",
      "RO (Romanian)\n",
      "RU (Russian) supports formality\n",
      "SK (Slovak)\n",
      "SL (Slovenian)\n",
      "SV (Swedish)\n",
      "TR (Turkish)\n",
      "UK (Ukrainian)\n",
      "ZH (Chinese (simplified))\n",
      "ZH-HANS (Chinese (simplified))\n"
     ]
    }
   ],
   "execution_count": 3
  },
  {
   "metadata": {
    "ExecuteTime": {
     "end_time": "2024-11-25T08:47:41.885101Z",
     "start_time": "2024-11-25T08:47:41.767777Z"
    }
   },
   "cell_type": "code",
   "source": "translator.translate_text(\"hello!\", source_lang=\"EN\", target_lang=\"UK\").text",
   "id": "a5ea2c0c58613b6e",
   "outputs": [
    {
     "data": {
      "text/plain": [
       "'Привіт!'"
      ]
     },
     "execution_count": 7,
     "metadata": {},
     "output_type": "execute_result"
    }
   ],
   "execution_count": 7
  },
  {
   "metadata": {
    "ExecuteTime": {
     "end_time": "2024-11-25T11:58:11.429898Z",
     "start_time": "2024-11-25T11:58:11.174452Z"
    }
   },
   "cell_type": "code",
   "source": "translator.get_usage().character.count",
   "id": "dd51b9cd97117aa6",
   "outputs": [
    {
     "data": {
      "text/plain": [
       "14443"
      ]
     },
     "execution_count": 103,
     "metadata": {},
     "output_type": "execute_result"
    }
   ],
   "execution_count": 103
  },
  {
   "metadata": {
    "ExecuteTime": {
     "end_time": "2024-11-25T11:37:08.965222Z",
     "start_time": "2024-11-25T11:37:08.962103Z"
    }
   },
   "cell_type": "code",
   "source": "qestions[556]",
   "id": "85707dcafc9299c8",
   "outputs": [
    {
     "data": {
      "text/plain": [
       "{'id': 8656,\n",
       " 'answer': 3,\n",
       " 'text': 'Archaeologists from the University of York and the University of Manchester in England have found the remains of a human house with a history of more than 10,000 years in Starka, North Yorkshire. Dating results show that it is a round wooden hut about 3.5 meters high, which existed in 8500 BC and is at least 500 years earlier than the oldest house previously found in Britain. Archaeologists also found a wooden platform and the trunk of a well-preserved tree nearby. In addition, they also found ornaments of processed antlers, indicating that people at that time already had some ceremonial activities.',\n",
       " 'question': 'Which of the followings, if true, can best support the above point of view?',\n",
       " 'options': ['The wooden platform is the workplace where human beings build small wooden houses.',\n",
       "  'At that time, the British already had a relatively stable address, rather than the previously thought of unsettled hunters.',\n",
       "  'Humans are gregarious animals, and there are more wooden houses waiting to be discovered nearby.',\n",
       "  'Only when ceremonial activities are held will the ornaments of processed antlers appear.'],\n",
       " 'type': {'Categorical Reasoning': True,\n",
       "  'Sufficient Conditional Reasoning': True,\n",
       "  'Necessry Condtional Reasoning': True,\n",
       "  'Conjunctive Reasoning': True}}"
      ]
     },
     "execution_count": 94,
     "metadata": {},
     "output_type": "execute_result"
    }
   ],
   "execution_count": 94
  },
  {
   "metadata": {
    "ExecuteTime": {
     "end_time": "2024-11-25T11:40:03.657337Z",
     "start_time": "2024-11-25T11:40:03.652913Z"
    }
   },
   "cell_type": "code",
   "source": "ok_questions = [13,17,18,21,24,556]",
   "id": "7eb9d2ee5852da26",
   "outputs": [],
   "execution_count": 95
  },
  {
   "metadata": {
    "ExecuteTime": {
     "end_time": "2024-11-25T10:21:44.782446Z",
     "start_time": "2024-11-25T10:21:44.760929Z"
    }
   },
   "cell_type": "code",
   "source": [
    "import json\n",
    "\n",
    "# Load JSON data from a file\n",
    "with open('dev.txt', 'r') as f:\n",
    "    data = f.read()\n",
    "strings = ['{\"id\"'+i.strip() if i else '' for i in data.split('{\"id\"')]\n",
    "qestions = [json.loads(i) for i in strings[1:]]"
   ],
   "id": "8940601725f99b47",
   "outputs": [],
   "execution_count": 63
  },
  {
   "metadata": {
    "ExecuteTime": {
     "end_time": "2024-11-25T09:31:26.548775Z",
     "start_time": "2024-11-25T09:31:26.544344Z"
    }
   },
   "cell_type": "code",
   "source": [
    "for i in qestions:\n",
    "    i['type'] = [key for key in i['type'].keys()]"
   ],
   "id": "794fcbad4cbbe66c",
   "outputs": [],
   "execution_count": 53
  },
  {
   "metadata": {
    "ExecuteTime": {
     "end_time": "2024-11-25T09:27:40.223857Z",
     "start_time": "2024-11-25T09:27:40.218833Z"
    }
   },
   "cell_type": "code",
   "source": [
    "\n",
    "# for i in qestions:\n",
    "#     i['answer'] = i['options'][i['answer']]"
   ],
   "id": "46abb352953214f5",
   "outputs": [],
   "execution_count": 50
  },
  {
   "metadata": {
    "ExecuteTime": {
     "end_time": "2024-11-25T09:32:34.842357Z",
     "start_time": "2024-11-25T09:32:24.406322Z"
    }
   },
   "cell_type": "code",
   "source": "translation = translator.translate_text(\"All Anxi people are vegetarians, while all Zhenyuan people are ascetics. Ascetics and vegetarians are like fire and water, and there is no conflict. Guo Shu is an ascetic.\", source_lang=\"EN\", target_lang=\"UK\").text",
   "id": "37adff204d7de4c6",
   "outputs": [],
   "execution_count": 55
  },
  {
   "metadata": {
    "ExecuteTime": {
     "end_time": "2024-11-25T09:32:42.060597Z",
     "start_time": "2024-11-25T09:32:42.056521Z"
    }
   },
   "cell_type": "code",
   "source": "translation",
   "id": "73976f594feea8d8",
   "outputs": [
    {
     "data": {
      "text/plain": [
       "'Всі люди Аньсі - вегетаріанці, а всі люди Чженьюань - аскети. Аскети і вегетаріанці - це як вогонь і вода, і між ними немає ніякого конфлікту. Го Шу - аскет.'"
      ]
     },
     "execution_count": 56,
     "metadata": {},
     "output_type": "execute_result"
    }
   ],
   "execution_count": 56
  },
  {
   "metadata": {
    "ExecuteTime": {
     "end_time": "2024-11-25T09:31:29.106329Z",
     "start_time": "2024-11-25T09:31:29.101670Z"
    }
   },
   "cell_type": "code",
   "source": "qestions[1]",
   "id": "58a7baf6eca3b11",
   "outputs": [
    {
     "data": {
      "text/plain": [
       "{'id': 7261,\n",
       " 'answer': 3,\n",
       " 'text': 'All Anxi people are vegetarians, while all Zhenyuan people are ascetics. Ascetics and vegetarians are like fire and water, and there is no conflict. Guo Shu is an ascetic.',\n",
       " 'question': 'Which of the followings can be infered',\n",
       " 'options': ['Guo Shu is from Zhenyuan',\n",
       "  'Guo Shu is not from Zhenyuan',\n",
       "  'Guo Shu is from Anxi',\n",
       "  'Guo Shu is not from Anxi'],\n",
       " 'type': ['Categorical Reasoning',\n",
       "  'Sufficient Conditional Reasoning',\n",
       "  'Conjunctive Reasoning']}"
      ]
     },
     "execution_count": 54,
     "metadata": {},
     "output_type": "execute_result"
    }
   ],
   "execution_count": 54
  },
  {
   "metadata": {
    "ExecuteTime": {
     "end_time": "2024-11-25T11:42:01.880319Z",
     "start_time": "2024-11-25T11:41:54.379577Z"
    }
   },
   "cell_type": "code",
   "source": [
    "ukr_qestions = []\n",
    "for i in ok_questions:\n",
    "    question = qestions[i]\n",
    "    ukr_qestion = question\n",
    "    ukr_qestion['text'] = translator.translate_text(question['text'], source_lang=\"EN\", target_lang=\"UK\").text\n",
    "    ukr_qestion['question'] = translator.translate_text(question['question'], source_lang=\"EN\", target_lang=\"UK\").text\n",
    "    for i in range(len(question['options'])):\n",
    "        ukr_qestion['options'][i] = translator.translate_text(question['options'][i], source_lang=\"EN\", target_lang=\"UK\").text\n",
    "    ukr_qestions.append(ukr_qestion)"
   ],
   "id": "f04b7c569aea57bf",
   "outputs": [],
   "execution_count": 97
  },
  {
   "metadata": {},
   "cell_type": "code",
   "outputs": [],
   "execution_count": null,
   "source": "",
   "id": "ae2e2823ad9852d3"
  },
  {
   "metadata": {
    "ExecuteTime": {
     "end_time": "2024-11-25T11:42:04.179522Z",
     "start_time": "2024-11-25T11:42:04.176343Z"
    }
   },
   "cell_type": "code",
   "source": [
    "\n",
    "for i in ukr_qestions:\n",
    "    i['answer'] = i['options'][i['answer']]"
   ],
   "id": "193db4620ed7d9c1",
   "outputs": [],
   "execution_count": 98
  },
  {
   "metadata": {
    "ExecuteTime": {
     "end_time": "2024-11-25T11:42:11.373806Z",
     "start_time": "2024-11-25T11:42:11.368877Z"
    }
   },
   "cell_type": "code",
   "source": "ukr_qestions",
   "id": "1c3659213dfc417d",
   "outputs": [
    {
     "data": {
      "text/plain": [
       "[{'id': 800,\n",
       "  'answer': 'Дослідження показали, що флора мишей з ожирінням використовує менше флавоноїдів.',\n",
       "  'text': \"Навіщо худнути і поправлятися? Спочатку вчені годували мишей дієтою з високим вмістом жирів. Після того, як миші ожиріли, вони перевели частину з них на нормальну дієту, а потім повернули їм початкову форму тіла. Після багаторазових циклів вищезгаданого методу годування. Дослідник Виявилося, що кожного разу, коли миші, які сиділи на нормальній дієті з високим вмістом жирів, поверталися до своєї початкової ваги, їхнє споживання кисню, витрати енергії та інші показники ожиріння поверталися до нормальних значень, але їхній чистий приріст у кожному дієтичному циклі був більшим, ніж у мишей, які дотримувалися дієти з високим вмістом жирів. Що призводить до набору зайвої ваги? Вчені з'ясували, що цикл дієт з високим вмістом жирів і низьким вмістом жирів змінює баланс кишкової флори мишей, руйнуючи корисні флавоноїди, в результаті чого миші з більшою ймовірністю набирають зайву вагу.\",\n",
       "  'question': 'Який з наведених нижче варіантів, якщо він вірний, не може бути підтверджений вищезазначеним висновком?',\n",
       "  'options': ['Дослідження показали, що флора мишей з ожирінням використовує менше флавоноїдів.',\n",
       "   'Мікробні спільноти в кишечнику людини та миші мають схожі закономірності у втраті ваги.',\n",
       "   'При вживанні флавоноїдних дієтичних добавок вони можуть перешкоджати відновленню надмірної ваги.',\n",
       "   'Коли миші повертаються до нормального пиття і втрачають вагу, порушена мікрофлора в їхньому організмі не відновиться самостійно.'],\n",
       "  'type': {'Categorical Reasoning': True,\n",
       "   'Sufficient Conditional Reasoning': True,\n",
       "   'Necessry Condtional Reasoning': True,\n",
       "   'Conjunctive Reasoning': True}},\n",
       " {'id': 2277,\n",
       "  'answer': 'Реалізація національної політики \"дві дитини\" сприятиме народженню більшої кількості дітей',\n",
       "  'text': \"У сучасному суспільстві багато людей похилого віку стають старими бродягами, щоб піклуватися про своїх дітей і наступне покоління. У нещодавньому міському опитуванні 52,2 відсотка опитаних молодих людей зізналися, що їхні батьки є старими бродягами. Вони та їхні партнери щойно розпочали свою кар'єру, і тиск на роботі є високим, тому вони не мають часу піклуватися про своїх дітей та займатися домашніми справами. На думку експертів, група старих бродяг у містах Китаю буде і надалі розширюватися.\",\n",
       "  'question': 'Що з наведеного нижче, якщо воно відповідає дійсності, найкраще підтверджує погляди вищезгаданих експертів?',\n",
       "  'options': ['Люди похилого віку в місті мають кращі медичні умови, ніж у сільській місцевості',\n",
       "   'Деякі люди похилого віку воліють жити в рідному місті',\n",
       "   'Реалізація національної політики \"дві дитини\" сприятиме народженню більшої кількості дітей',\n",
       "   'Після впровадження політики двох дітей рівень народжуваності двох дітей у містах є нижчим, ніж у сільській місцевості'],\n",
       "  'type': {'Categorical Reasoning': True,\n",
       "   'Sufficient Conditional Reasoning': True,\n",
       "   'Necessry Condtional Reasoning': True,\n",
       "   'Conjunctive Reasoning': True}},\n",
       " {'id': 3141,\n",
       "  'answer': 'Середа',\n",
       "  'text': \"A, B, C, D і E чергують. Кожна людина чергує один день з понеділка по п'ятницю. Умови: B чергує перед D і E, а C не може чергувати у вівторок. Між A і D рівно один день.\",\n",
       "  'question': \"Запитайте у чергового Б, в який час тижня п'ятеро людей, що чергують, є унікальними?\",\n",
       "  'options': ['Понеділок', 'Туседей.', 'Середа', 'Четвер'],\n",
       "  'type': {'Categorical Reasoning': True, 'Conjunctive Reasoning': True}},\n",
       " {'id': 945,\n",
       "  'answer': 'Температура людського тіла має точний механізм регуляції, який в основному стабільний, і немає очевидної різниці в температурі між різними органами тіла.',\n",
       "  'text': 'Деякі дослідження стверджують, що ракові клітини бояться тепла, а висока температура тіла може боротися з раком. Найбільш схильні до раку органи людського тіла, включаючи легені, шлунок, товстий кишечник, молочні залози тощо, - це частини тіла з низькою температурою тіла, а органи з високою температурою, такі як серце, не так легко захворіти на рак. Тому ви можете підвищити температуру тіла для боротьби з раком за допомогою фізичних вправ, пиття гарячої води, купання та інших способів.',\n",
       "  'question': 'Що з наведеного нижче, якщо воно відповідає дійсності, може найкраще спростувати наведене вище твердження?',\n",
       "  'options': ['Під впливом дихання, харчування тощо температура в ротовій порожнині людини зазвичай нижча, ніж у прямій кишці, але захворюваність на рак прямої кишки в усьому світі вища, ніж на рак ротової порожнини.',\n",
       "   'Температура людського тіла має точний механізм регуляції, який в основному стабільний, і немає очевидної різниці в температурі між різними органами тіла.',\n",
       "   'Гіпертермія може допомогти променевій терапії або деяким видам хіміотерапії відігравати кращу роль, але дослідницьких даних, що підтверджують її надійність, все ще недостатньо.',\n",
       "   'Злоякісні пухлини рідко виникають у серці, оскільки кардіоміоцити тут більше не діляться і не проліферують, незалежно від температури.'],\n",
       "  'type': {'Categorical Reasoning': True,\n",
       "   'Sufficient Conditional Reasoning': True,\n",
       "   'Necessry Condtional Reasoning': True,\n",
       "   'Disjunctive Reasoning': True,\n",
       "   'Conjunctive Reasoning': True}},\n",
       " {'id': 3226,\n",
       "  'answer': 'Більша частина опитування надійшла з відділу Яо Цзюня.',\n",
       "  'text': 'За дорученням учнівської профспілки шкільна газета провела вибіркове опитування серед вчителів та учнів школи і вибрала найпопулярніших членів профспілки. В результаті Яо Цзюнь отримав понад 65% підтримки і набрав найбільшу кількість голосів. Таким чином, студентський союз вважає, що Яо Цзюнь є найпопулярнішим кадром студентського союзу.',\n",
       "  'question': 'Що з наведеного нижче, якщо це правда, послаблює висновок студентської профспілки?',\n",
       "  'options': ['Більша частина опитування надійшла з відділу Яо Цзюня.',\n",
       "   'Більшість респондентів не звертали уваги на членів студентської профспілки та їхню роботу.',\n",
       "   'Деякі вчителі та учні школи не висловили своєї думки в опитуванні.',\n",
       "   'Ця анкета ставить Яо Цзюня на перше місце в розробці опитування.'],\n",
       "  'type': {'Categorical Reasoning': True,\n",
       "   'Sufficient Conditional Reasoning': True,\n",
       "   'Necessry Condtional Reasoning': True,\n",
       "   'Conjunctive Reasoning': True}},\n",
       " {'id': 8656,\n",
       "  'answer': \"Лише під час церемоніальних заходів з'являються орнаменти з оброблених рогів.\",\n",
       "  'text': \"Археологи з Йоркського та Манчестерського університетів в Англії знайшли рештки людського житла, історія якого налічує понад 10 000 років, у Старці, Північний Йоркшир. Результати датування показують, що це кругла дерев'яна хатина заввишки близько 3,5 метрів, яка існувала у 8500 році до н.е. і щонайменше на 500 років раніше, ніж найстаріший будинок, раніше знайдений у Британії. Поруч археологи також знайшли дерев'яну платформу і стовбур добре збереженого дерева. Крім того, вони також знайшли прикраси з оброблених рогів, що свідчить про те, що люди в той час вже мали певні ритуальні дії.\",\n",
       "  'question': 'Що з наведеного нижче, якщо воно відповідає дійсності, може найкраще підтвердити вищезазначену точку зору?',\n",
       "  'options': [\"Дерев'яна платформа - це робоче місце, де люди будують маленькі дерев'яні будиночки.\",\n",
       "   'На той час британці вже мали відносно стабільну адресу, а не були, як раніше вважалося, невлаштованими мисливцями.',\n",
       "   \"Люди - товариські тварини, і поблизу є ще багато дерев'яних будинків, які чекають на те, щоб їх відкрили.\",\n",
       "   \"Лише під час церемоніальних заходів з'являються орнаменти з оброблених рогів.\"],\n",
       "  'type': {'Categorical Reasoning': True,\n",
       "   'Sufficient Conditional Reasoning': True,\n",
       "   'Necessry Condtional Reasoning': True,\n",
       "   'Conjunctive Reasoning': True}}]"
      ]
     },
     "execution_count": 99,
     "metadata": {},
     "output_type": "execute_result"
    }
   ],
   "execution_count": 99
  },
  {
   "metadata": {
    "ExecuteTime": {
     "end_time": "2024-11-25T11:43:16.471417Z",
     "start_time": "2024-11-25T11:43:16.468292Z"
    }
   },
   "cell_type": "code",
   "source": [
    "for i in ukr_qestions:\n",
    "    i['type'] = [key for key in i['type'].keys()]"
   ],
   "id": "790680b0160ec03b",
   "outputs": [],
   "execution_count": 101
  },
  {
   "metadata": {
    "ExecuteTime": {
     "end_time": "2024-11-25T11:43:18.492858Z",
     "start_time": "2024-11-25T11:43:18.488198Z"
    }
   },
   "cell_type": "code",
   "source": [
    "with open('ukr_questions_2.json', 'w', encoding='utf-8') as file:\n",
    "    json.dump(ukr_qestions, file, ensure_ascii=False, indent=4)"
   ],
   "id": "c08aaff00e54d651",
   "outputs": [],
   "execution_count": 102
  }
 ],
 "metadata": {
  "kernelspec": {
   "display_name": "Python 3",
   "language": "python",
   "name": "python3"
  },
  "language_info": {
   "codemirror_mode": {
    "name": "ipython",
    "version": 2
   },
   "file_extension": ".py",
   "mimetype": "text/x-python",
   "name": "python",
   "nbconvert_exporter": "python",
   "pygments_lexer": "ipython2",
   "version": "2.7.6"
  }
 },
 "nbformat": 4,
 "nbformat_minor": 5
}
